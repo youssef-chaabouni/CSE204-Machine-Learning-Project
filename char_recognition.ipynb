{
 "cells": [
  {
   "cell_type": "markdown",
   "id": "71e29f20",
   "metadata": {},
   "source": [
    "# Single character recognition model\n",
    "- Our goal with this model is to use convolutional neural networks to recognize a single character on an image, similarly to what is done with the famous MNIST handwritten-digit dataset. \n",
    "- In fact, we will use a very similar dataset called EMNIST, and more specifically the \"by-class EMNIST\" which contains a total of 894,253 images. This version is unbalanced, so characters appear with different frequencies. However, the frequencies match the appearance frequencies of characters in the English language (stated on the dataset website, but we will check this). \n",
    "- We previously tried using the smaller, balanced datasets, but it seemed like it was more important to have as much training data as possible to have a robust model, since this one will be used on the segmentation algorithm. "
   ]
  },
  {
   "cell_type": "code",
   "execution_count": 13,
   "id": "e825fdde",
   "metadata": {},
   "outputs": [],
   "source": [
    "### LOAD PACKAGES ###\n",
    "\n",
    "import numpy as np\n",
    "import pandas as pd\n",
    "import matplotlib.pyplot as plt\n",
    "import matplotlib.image as mpimg\n",
    "\n",
    "import sklearn.metrics as metrics\n",
    "from sklearn.model_selection import train_test_split\n",
    "import tensorflow as tf\n",
    "from tensorflow import keras\n",
    "from tensorflow.keras.layers import Dense, Flatten, Activation\n",
    "from tensorflow.keras.layers import Conv2D, MaxPooling2D\n",
    "from tensorflow.keras.layers import Dropout, BatchNormalization\n",
    "from tensorflow.keras.optimizers import SGD, Adam\n",
    "from tensorflow.keras.utils import to_categorical\n",
    "\n",
    "import random\n",
    "from sklearn.utils import shuffle"
   ]
  },
  {
   "cell_type": "code",
   "execution_count": 14,
   "id": "3cb12c05",
   "metadata": {},
   "outputs": [
    {
     "name": "stdout",
     "output_type": "stream",
     "text": [
      "Quick check on the shapes:  (352896, 28, 28, 1) (352896, 1) (58404, 28, 28, 1) (58404, 1)\n"
     ]
    }
   ],
   "source": [
    "### LOAD DATASET ### (already split in train/test sets)\n",
    "\n",
    "train_file = pd.read_csv('HWT_project/data_2/emnist-byclass-train.csv')\n",
    "train_file = np.array(train_file)\n",
    "X_train = train_file[:,1:]\n",
    "X_train = X_train.reshape((X_train.shape[0],28,28))\n",
    "y_train = train_file[:,0]\n",
    "y_train = y_train.reshape((y_train.shape[0],1))\n",
    "\n",
    "test_file = pd.read_csv('HWT_project/data_2/emnist-byclass-test.csv')\n",
    "test_file = np.array(test_file)\n",
    "X_test = test_file[:,1:]\n",
    "X_test = X_test.reshape((X_test.shape[0],28,28))\n",
    "y_test = test_file[:,0]\n",
    "y_test = y_test.reshape((y_test.shape[0],1))\n",
    "\n",
    "digits = False    # If you want digits in the dataset (specify proportion below)\n",
    "nodigits = True   # No digits at all\n",
    "#nocaps = True     # If you want no caps at all\n",
    "\n",
    "if not digits:\n",
    "    all_digits = [i for i in range(10)]\n",
    "    digit_indices = []\n",
    "    for i in range(len(X_train)):\n",
    "        if y_train[i][0] in all_digits:\n",
    "            if random.random() > 0.0:     # specify proportion\n",
    "                digit_indices.append(i)\n",
    "    X_train = np.delete(X_train,digit_indices,axis=0)\n",
    "    y_train = np.delete(y_train,digit_indices,axis=0)\n",
    "    \n",
    "    digit_indices = []\n",
    "    for i in range(len(X_test)):\n",
    "        if y_test[i][0] in all_digits:\n",
    "            if random.random() > 0.0:\n",
    "                digit_indices.append(i)\n",
    "    X_test = np.delete(X_test,digit_indices,axis=0)\n",
    "    y_test = np.delete(y_test,digit_indices,axis=0)\n",
    "    \n",
    "    if nodigits:\n",
    "        y_train -= 10\n",
    "        y_test -= 10\n",
    "\n",
    "\"\"\"\n",
    "if nocaps:\n",
    "    caps = [i for i in range(10,36)]\n",
    "    \n",
    "    caps_indices = []\n",
    "    for i in range(len(X_train)):\n",
    "        if y_train[i][0] in caps:\n",
    "            caps_indices.append(i)\n",
    "    X_train = np.delete(X_train,caps_indices,axis=0)\n",
    "    y_train = np.delete(y_train,caps_indices,axis=0)\n",
    "    \n",
    "    caps_indices = []\n",
    "    for i in range(len(X_test)):\n",
    "        if y_test[i][0] in caps:\n",
    "            caps_indices.append(i)\n",
    "    X_test = np.delete(X_test,caps_indices,axis=0)\n",
    "    y_test = np.delete(y_test,caps_indices,axis=0)\n",
    "    \n",
    "    y_train -= 26\n",
    "    y_test -= 26\n",
    "\"\"\"\n",
    "    \n",
    "for i in range(X_train.shape[0]):\n",
    "    X_train[i] = X_train[i].T\n",
    "for i in range(X_test.shape[0]):\n",
    "    X_test[i] = X_test[i].T\n",
    "    \n",
    "X_train = X_train.reshape((X_train.shape[0],28,28,1))\n",
    "X_test = X_test.reshape((X_test.shape[0],28,28,1))\n",
    "\n",
    "print(\"Quick check on the shapes: \", X_train.shape, y_train.shape,X_test.shape,y_test.shape)"
   ]
  },
  {
   "cell_type": "code",
   "execution_count": 15,
   "id": "e3b2e0ac",
   "metadata": {},
   "outputs": [
    {
     "name": "stdout",
     "output_type": "stream",
     "text": [
      "[13]\n",
      "N\n"
     ]
    },
    {
     "data": {
      "image/png": "[encoded data removed]",
      "text/plain": [
       "<Figure size 432x288 with 1 Axes>"
      ]
     },
     "metadata": {
      "needs_background": "light"
     },
     "output_type": "display_data"
    }
   ],
   "source": [
    "## Check alignment\n",
    "\n",
    "plt.imshow(X_train[150000])\n",
    "print(y_train[150000])\n",
    "print(chr(78))"
   ]
  },
  {
   "cell_type": "markdown",
   "id": "8a38e930",
   "metadata": {},
   "source": [
    "### Parsing the data\n",
    "The dataset includes a mapping textfile which is used to map a character to its class label. Each class label (integers from 0 to n) is mapped to the ASCII representation of the character. "
   ]
  },
  {
   "cell_type": "code",
   "execution_count": 16,
   "id": "b4c3c997",
   "metadata": {},
   "outputs": [
    {
     "name": "stdout",
     "output_type": "stream",
     "text": [
      "{0: 65, 1: 66, 2: 67, 3: 68, 4: 69, 5: 70, 6: 71, 7: 72, 8: 73, 9: 74, 10: 75, 11: 76, 12: 77, 13: 78, 14: 79, 15: 80, 16: 81, 17: 82, 18: 83, 19: 84, 20: 85, 21: 86, 22: 87, 23: 88, 24: 89, 25: 90, 26: 97, 27: 98, 28: 99, 29: 100, 30: 101, 31: 102, 32: 103, 33: 104, 34: 105, 35: 106, 36: 107, 37: 108, 38: 109, 39: 110, 40: 111, 41: 112, 42: 113, 43: 114, 44: 115, 45: 116, 46: 117, 47: 118, 48: 119, 49: 120, 50: 121, 51: 122}\n",
      "Map:  {0: 'A', 1: 'B', 2: 'C', 3: 'D', 4: 'E', 5: 'F', 6: 'G', 7: 'H', 8: 'I', 9: 'J', 10: 'K', 11: 'L', 12: 'M', 13: 'N', 14: 'O', 15: 'P', 16: 'Q', 17: 'R', 18: 'S', 19: 'T', 20: 'U', 21: 'V', 22: 'W', 23: 'X', 24: 'Y', 25: 'Z', 26: 'a', 27: 'b', 28: 'c', 29: 'd', 30: 'e', 31: 'f', 32: 'g', 33: 'h', 34: 'i', 35: 'j', 36: 'k', 37: 'l', 38: 'm', 39: 'n', 40: 'o', 41: 'p', 42: 'q', 43: 'r', 44: 's', 45: 't', 46: 'u', 47: 'v', 48: 'w', 49: 'x', 50: 'y', 51: 'z'}\n"
     ]
    }
   ],
   "source": [
    "with open('HWT_project/data_2/emnist-balanced-mapping.txt','r') as mapp:\n",
    "    d = dict()\n",
    "    if nodigits:\n",
    "        for l in mapp.readlines():\n",
    "            if int(l.split()[0]) > 9:\n",
    "                d[int(l.split()[0])-10] = int(l.split()[1])\n",
    "    else:\n",
    "        for l in mapp.readlines():\n",
    "            d[int(l.split()[0])] = int(l.split()[1])\n",
    "\n",
    "d_disp = {k:chr(d[k]) for k in d.keys()}\n",
    "print(d)\n",
    "print(\"Map: \", d_disp)"
   ]
  },
  {
   "cell_type": "markdown",
   "id": "726f0a9a",
   "metadata": {},
   "source": [
    "The frequencies shown below prove that the character frequencies are close to the appearance frequencies in the English language. This is true for small caps, as well as caps. However, this might be a problem: because the frequency of caps with respect to small caps is much smaller in reality. The same goes for digits, which are dominant in the dataset. If this appears to be a problem later, we could seek to personalize our dataset or look at other methods later."
   ]
  },
  {
   "cell_type": "code",
   "execution_count": 17,
   "id": "2f219692",
   "metadata": {},
   "outputs": [
    {
     "data": {
      "image/png": "[encoded data removed]",
      "text/plain": [
       "<Figure size 1080x720 with 1 Axes>"
      ]
     },
     "metadata": {
      "needs_background": "light"
     },
     "output_type": "display_data"
    }
   ],
   "source": [
    "unique, counts = np.unique(y_train, return_counts=True)\n",
    "counts = counts/np.sum(counts)\n",
    "plt.figure(figsize=(15,10))\n",
    "plt.bar(unique,counts)\n",
    "plt.xticks(unique,d_disp.values())\n",
    "plt.title('Frequency of characters in EMNIST', fontsize=18)\n",
    "plt.show()"
   ]
  },
  {
   "cell_type": "markdown",
   "id": "cc0871a8",
   "metadata": {},
   "source": [
    "We parse the data by standardizing the image matrices to avoid gradient explosion. We also use one-hot encoding of the labels to be able to use the categorical cross-entropy loss later."
   ]
  },
  {
   "cell_type": "code",
   "execution_count": 18,
   "id": "0a892c2f",
   "metadata": {},
   "outputs": [
    {
     "name": "stdout",
     "output_type": "stream",
     "text": [
      "(352896, 52)\n"
     ]
    }
   ],
   "source": [
    "### PARSE DATA ###\n",
    "\n",
    "X_train = X_train.astype('float32')/255\n",
    "X_test = X_test.astype('float32')/255\n",
    "y_train = to_categorical(y_train.astype('uint8'))\n",
    "y_test = to_categorical(y_test.astype('uint8'))\n",
    "X_train, y_train = shuffle(X_train, y_train)\n",
    "\n",
    "## ADD NOISE\n",
    "for i in range(len(X_train)):\n",
    "    X_train[i] += np.abs(np.random.normal(0,0.8,(28,28)).reshape(28,28,1))\n",
    "\n",
    "print(y_train.shape)"
   ]
  },
  {
   "cell_type": "markdown",
   "id": "89e3cdac",
   "metadata": {},
   "source": [
    "Let's display a few images to make sure the shuffling did not alter the labelling."
   ]
  },
  {
   "cell_type": "code",
   "execution_count": 19,
   "id": "09d0d53d",
   "metadata": {},
   "outputs": [
    {
     "data": {
      "image/png": "[encoded data removed]",
      "text/plain": [
       "<Figure size 1440x1440 with 10 Axes>"
      ]
     },
     "metadata": {
      "needs_background": "light"
     },
     "output_type": "display_data"
    }
   ],
   "source": [
    "### DISPLAY n IMAGES ###\n",
    "n = 10\n",
    "\n",
    "f,ax = plt.subplots(1,n,figsize=(2*n,2*n))\n",
    "for i in range(n):\n",
    "    t = random.randint(0,X_train.shape[0])\n",
    "    ax[i].imshow(X_train[t,:,:,0])\n",
    "    ax[i].set_title(chr(d[np.argmax(y_train[t])]))\n",
    "    ax[i].axis('off')\n",
    "plt.show()"
   ]
  },
  {
   "cell_type": "markdown",
   "id": "e29ffa61",
   "metadata": {},
   "source": [
    "The model we define is a convolutional neural network with 3 filter layers. This model is similar to what one would use for the MNIST dataset. Since there are a bit more classes than the latter, we though that the model would work well if we added some complexity by adding filters throughout the layers. The rest is similar to what we implemented in TD."
   ]
  },
  {
   "cell_type": "code",
   "execution_count": 8,
   "id": "f51b9527",
   "metadata": {},
   "outputs": [],
   "source": [
    "def Model(input_shape, num_classes):\n",
    "    \n",
    "    model = keras.models.Sequential()\n",
    "    \n",
    "    model.add(Conv2D(filters=32, kernel_size=(3, 3), activation='relu', input_shape=input_shape))\n",
    "    model.add(MaxPooling2D(pool_size=(2, 2)))\n",
    "    model.add(Dropout(0.2))\n",
    "    \n",
    "    model.add(Conv2D(filters=64, kernel_size=(3, 3), activation='relu', padding = 'same'))\n",
    "    model.add(MaxPooling2D(pool_size=(2, 2)))\n",
    "    \n",
    "    model.add(Conv2D(filters=128, kernel_size=(3, 3), activation='relu', padding = 'valid'))\n",
    "    model.add(MaxPooling2D(pool_size=(2, 2)))\n",
    "    model.add(Dropout(0.2))\n",
    "    model.add(BatchNormalization())\n",
    "    \n",
    "    model.add(Flatten())\n",
    "    model.add(Dense(128,activation =\"relu\"))\n",
    "    model.add(Dropout(0.2))\n",
    "    model.add(BatchNormalization())\n",
    "    model.add(Dense(64,activation =\"relu\"))\n",
    "    model.add(Dense(num_classes,activation =\"softmax\"))\n",
    "    \n",
    "    model.compile(optimizer = Adam(learning_rate=0.001), loss='categorical_crossentropy', metrics=['accuracy'])\n",
    "    \n",
    "    return model"
   ]
  },
  {
   "cell_type": "code",
   "execution_count": 9,
   "id": "7c2031f5",
   "metadata": {},
   "outputs": [],
   "source": [
    "model = Model(X_train.shape[1:], y_train.shape[1])"
   ]
  },
  {
   "cell_type": "code",
   "execution_count": 10,
   "id": "0c6a05b1",
   "metadata": {},
   "outputs": [],
   "source": [
    "def train(model, x: np.array, y: np.array,\n",
    "                x_target: np.array, y_target: np.array,\n",
    "                batch_size: int = 32, epochs: int = 10):\n",
    "    e_stop = tf.keras.callbacks.EarlyStopping(monitor=\"val_accuracy\", patience=2)\n",
    "    model.fit(x, y, batch_size=batch_size, epochs=epochs, callbacks=[e_stop], validation_data=(x_target, y_target))"
   ]
  },
  {
   "cell_type": "code",
   "execution_count": 11,
   "id": "cd241696",
   "metadata": {},
   "outputs": [
    {
     "name": "stdout",
     "output_type": "stream",
     "text": [
      "Epoch 1/20\n",
      "2757/2757 [==============================] - 79s 29ms/step - loss: 0.7003 - accuracy: 0.7790 - val_loss: 0.4405 - val_accuracy: 0.8397\n",
      "Epoch 2/20\n",
      "2757/2757 [==============================] - 80s 29ms/step - loss: 0.4699 - accuracy: 0.8332 - val_loss: 0.4368 - val_accuracy: 0.8411\n",
      "Epoch 3/20\n",
      "2757/2757 [==============================] - 79s 29ms/step - loss: 0.4394 - accuracy: 0.8417 - val_loss: 0.4272 - val_accuracy: 0.8426\n",
      "Epoch 4/20\n",
      "2757/2757 [==============================] - 76s 28ms/step - loss: 0.4251 - accuracy: 0.8455 - val_loss: 0.3952 - val_accuracy: 0.8533\n",
      "Epoch 5/20\n",
      "2757/2757 [==============================] - 76s 28ms/step - loss: 0.4141 - accuracy: 0.8483 - val_loss: 0.3813 - val_accuracy: 0.8572\n",
      "Epoch 6/20\n",
      "2757/2757 [==============================] - 76s 28ms/step - loss: 0.4054 - accuracy: 0.8503 - val_loss: 0.3867 - val_accuracy: 0.8552\n",
      "Epoch 7/20\n",
      "2757/2757 [==============================] - 76s 28ms/step - loss: 0.4007 - accuracy: 0.8518 - val_loss: 0.3899 - val_accuracy: 0.8526\n"
     ]
    }
   ],
   "source": [
    "train(model,X_train,y_train,X_test,y_test,128,20)"
   ]
  },
  {
   "cell_type": "code",
   "execution_count": 12,
   "id": "b8025e59",
   "metadata": {},
   "outputs": [
    {
     "name": "stdout",
     "output_type": "stream",
     "text": [
      "INFO:tensorflow:Assets written to: model_char_noised02/assets\n"
     ]
    }
   ],
   "source": [
    "model.save('model_char_noised02')"
   ]
  },
  {
   "cell_type": "code",
   "execution_count": null,
   "id": "720f47a2",
   "metadata": {},
   "outputs": [],
   "source": [
    "# model_char_v1 :\n",
    "# best acc: 0.8639\n",
    "# best val_acc: 0.8679\n",
    "\n",
    "# model_char_v2 :\n",
    "# best acc: 0.8704\n",
    "# best val_acc: 0.8748\n",
    "\n",
    "# model_char_digitprob02\n",
    "# best acc: 0.8290\n",
    "# best val_acc: 0.8365\n",
    "\n",
    "# model_char_nodigit\n",
    "# best acc: 0.8625\n",
    "# best val_acc: 0.8622 "
   ]
  }
 ],
 "metadata": {
  "kernelspec": {
   "display_name": "Python 3",
   "language": "python",
   "name": "python3"
  },
  "language_info": {
   "codemirror_mode": {
    "name": "ipython",
    "version": 3
   },
   "file_extension": ".py",
   "mimetype": "text/x-python",
   "name": "python",
   "nbconvert_exporter": "python",
   "pygments_lexer": "ipython3",
   "version": "3.8.8"
  }
 },
 "nbformat": 4,
 "nbformat_minor": 5
}
